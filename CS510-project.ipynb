{
 "cells": [
  {
   "cell_type": "markdown",
   "metadata": {},
   "source": [
    "# Set up Database"
   ]
  },
  {
   "cell_type": "code",
   "execution_count": 217,
   "metadata": {},
   "outputs": [],
   "source": [
    "#Pickle allows you to save python objects as files and then load them back into \n",
    "#objects. This way you can save analysis results and load them at a later date or in another notebook\n",
    "\n",
    "import pickle\n",
    "def save(dObj, sFilename):\n",
    "  '''Given an object and a file name, write the object to the file using pickle.'''\n",
    "\n",
    "  f = open(sFilename, \"wb\")\n",
    "  p = pickle.Pickler(f)\n",
    "  p.dump(dObj)\n",
    "  f.close()\n",
    "\n",
    "def load(sFilename):\n",
    "  '''Given a file name, load and return the object stored in the file.'''\n",
    "\n",
    "  f = open(sFilename, \"rb\")\n",
    "  u = pickle.Unpickler(f)\n",
    "  dObj = u.load()\n",
    "  f.close()\n",
    "  return dObj"
   ]
  },
  {
   "cell_type": "code",
   "execution_count": 1,
   "metadata": {},
   "outputs": [],
   "source": [
    "# Import the Twython class\n",
    "from twython import Twython\n",
    "import json"
   ]
  },
  {
   "cell_type": "code",
   "execution_count": 2,
   "metadata": {},
   "outputs": [],
   "source": [
    "# Enter your keys/secrets as strings in the following fields\n",
    "credentials = {}\n",
    "credentials['CONSUMER_KEY'] = 'sVems62H0RWKzzvQQRA7XudV3'\n",
    "credentials['CONSUMER_SECRET'] = 'VgMggXa5lynttR4q88zbK3YVGhrc9VX0tpAiQrDL4ZUBf4AKey'\n",
    "credentials['ACCESS_TOKEN'] = '1148727050628263941-GJUJIjUrQ69mjOddkxY09pHiH8dfU4'\n",
    "credentials['ACCESS_SECRET'] = 'lBWT5wb2y0u3f9LzzalUDcSQsu0VwIaFu8mObbHayQPkU'"
   ]
  },
  {
   "cell_type": "code",
   "execution_count": 3,
   "metadata": {},
   "outputs": [],
   "source": [
    "#Save the credentials object to file\n",
    "with open(\"twitter_credentials.json\", \"w\") as file:\n",
    "    json.dump(credentials, file)"
   ]
  },
  {
   "cell_type": "code",
   "execution_count": 4,
   "metadata": {},
   "outputs": [],
   "source": [
    "#Load credentials from json file\n",
    "with open(\"twitter_credentials.json\", \"r\") as file:\n",
    "    creds = json.load(file)"
   ]
  },
  {
   "cell_type": "code",
   "execution_count": 370,
   "metadata": {},
   "outputs": [],
   "source": [
    "#Instantiate an object\n",
    "python_tweets = Twython(creds['CONSUMER_KEY'], creds['CONSUMER_SECRET'])"
   ]
  },
  {
   "cell_type": "code",
   "execution_count": 371,
   "metadata": {},
   "outputs": [],
   "source": [
    "# Create our query\n",
    "query = {'q': 'eagles',\n",
    "        'rpp': 100,\n",
    "        'lang': 'en',\n",
    "        }"
   ]
  },
  {
   "cell_type": "code",
   "execution_count": 372,
   "metadata": {},
   "outputs": [],
   "source": [
    "i = 0\n",
    "dTweets = {}\n",
    "for status in python_tweets.search(**query, tweet_mode='extended')['statuses']:\n",
    "    dict_ = {'user': [], 'date': [], 'text': [], 'favorite_count': [], 'id': []}\n",
    "    dict_['user'].append(status['user']['screen_name'])\n",
    "    dict_['date'].append(status['created_at'])\n",
    "    dict_['text'].append(status['full_text'])\n",
    "    dict_['favorite_count'].append(status['favorite_count'])\n",
    "    dict_['id'].append(status['id'])\n",
    "    dTweets[i] = dict_\n",
    "    i += 1"
   ]
  },
  {
   "cell_type": "code",
   "execution_count": null,
   "metadata": {},
   "outputs": [],
   "source": [
    "for round in range(0, 10):\n",
    "    #Instantiate an object\n",
    "    python_tweets = Twython(creds['CONSUMER_KEY'], creds['CONSUMER_SECRET'])\n",
    "    # Create our query\n",
    "    lIDs = []\n",
    "    for key in dTweets:\n",
    "        sID = str(dTweets[key]['id'])\n",
    "        sID = sID[1:len(sID)-2]\n",
    "        lIDs.append(int(sID))\n",
    "    print(lIDs)\n",
    "    query['maxID'] = [str(min(lIDs) - 10)]\n",
    "    print(query['maxID'])\n",
    "    i = len(dTweets)\n",
    "    for status in python_tweets.search(**query, tweet_mode='extended')['statuses']:\n",
    "        print(\"new\")\n",
    "        dict_ = {'user': [], 'date': [], 'text': [], 'favorite_count': [], 'id': []}\n",
    "        dict_['user'].append(status['user']['screen_name'])\n",
    "        dict_['date'].append(status['created_at'])\n",
    "        dict_['text'].append(status['full_text'])\n",
    "        dict_['favorite_count'].append(status['favorite_count'])\n",
    "        dict_['id'].append(status['id'])\n",
    "        dTweets[i] = dict_\n",
    "        i += 1\n",
    "    print(round)"
   ]
  },
  {
   "cell_type": "code",
   "execution_count": 238,
   "metadata": {},
   "outputs": [],
   "source": [
    "save(dTweets, \"pickleDTweets\")"
   ]
  },
  {
   "cell_type": "code",
   "execution_count": null,
   "metadata": {},
   "outputs": [],
   "source": [
    "for key in range(0,100):\n",
    "    print(str(key) + \"--- \" + str(dTweets[key]['text']))\n",
    "    print()"
   ]
  },
  {
   "cell_type": "code",
   "execution_count": 91,
   "metadata": {},
   "outputs": [],
   "source": [
    "sDirectory = 'test/'\n",
    "sFilename = ''\n",
    "for entry in dTweets:\n",
    "    sFilename = sDirectory + str(entry) + '-1'\n",
    "    fFile = file1 = open(sFilename,\"a\")\n",
    "    sText = str(dTweets[entry]['text'])\n",
    "    sText = sText[2:(len(sText)-2)]\n",
    "    fFile.write(sText)\n",
    "    fFile.close\n"
   ]
  },
  {
   "cell_type": "code",
   "execution_count": null,
   "metadata": {},
   "outputs": [],
   "source": []
  }
 ],
 "metadata": {
  "kernelspec": {
   "display_name": "Python 3",
   "language": "python",
   "name": "python3"
  },
  "language_info": {
   "codemirror_mode": {
    "name": "ipython",
    "version": 3
   },
   "file_extension": ".py",
   "mimetype": "text/x-python",
   "name": "python",
   "nbconvert_exporter": "python",
   "pygments_lexer": "ipython3",
   "version": "3.7.4"
  }
 },
 "nbformat": 4,
 "nbformat_minor": 4
}
